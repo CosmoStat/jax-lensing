{
 "cells": [
  {
   "cell_type": "code",
   "execution_count": 1,
   "id": "77c0cacb",
   "metadata": {},
   "outputs": [],
   "source": [
    "# Script for training a denoiser\n",
    "import os\n",
    "\n",
    "os.environ['XLA_FLAGS']='--xla_gpu_cuda_data_dir=/gpfslocalsys/cuda/11.2'"
   ]
  },
  {
   "cell_type": "code",
   "execution_count": 2,
   "id": "d597a315",
   "metadata": {},
   "outputs": [
    {
     "name": "stdout",
     "output_type": "stream",
     "text": [
      "Populating the interactive namespace from numpy and matplotlib\n"
     ]
    }
   ],
   "source": [
    "%pylab inline"
   ]
  },
  {
   "cell_type": "code",
   "execution_count": 3,
   "id": "103ccfaa",
   "metadata": {},
   "outputs": [],
   "source": [
    "import haiku as hk\n",
    "import jax\n",
    "import optax\n",
    "import jax.numpy as jnp\n",
    "import numpy as onp\n",
    "import pickle\n",
    "from functools import partial\n",
    "\n",
    "import tensorflow as tf\n",
    "import tensorflow_datasets as tfds\n",
    "\n",
    "from jax_lensing.inversion import ks93inv, ks93\n",
    "\n",
    "from jax_lensing.models import UResNet18\n",
    "from jax_lensing.models.normalization import SNParamsTree \n",
    "\n",
    "from jax_lensing.spectral import measure_power_spectrum, make_power_map\n",
    "\n",
    "from astropy.io import fits"
   ]
  },
  {
   "cell_type": "code",
   "execution_count": 4,
   "id": "f64942ed",
   "metadata": {},
   "outputs": [],
   "source": [
    "dataset = \"kappatng\"\n",
    "weight_dir='/gpfswork/rech/xdy/commun/Remy2021/score_sn1.0_std0.2'\n",
    "\n",
    "b_mode = False\n",
    "batch_size = 32\n",
    "gaussian_prior = True\n",
    "\n",
    "gaussian_path = \"../../data/ktng/ktng_PS_theory.npy\"\n",
    "ps_data_th = onp.load(gaussian_path).astype('float32')\n",
    "\n",
    "#sigma_gamma = 0.148\n",
    "map_size = 360\n",
    "resolution = 0.29\n",
    "pixel_size = jnp.pi * resolution / 180. / 60. #rad/pixel"
   ]
  },
  {
   "cell_type": "code",
   "execution_count": 5,
   "id": "2962d81a",
   "metadata": {},
   "outputs": [],
   "source": [
    "ps_data = onp.load(gaussian_path).astype('float32')\n",
    "ell = jnp.array(ps_data[0,:])\n",
    "# massivenu: channel 4\n",
    "ps_halofit = jnp.array(ps_data[1,:] / pixel_size**2) # normalisation by pixel size\n",
    "# convert to pixel units of our simple power spectrum calculator\n",
    "#kell = ell / (360/3.5/0.5) / float(FLAGS.map_size)\n",
    "kell = ell /2/jnp.pi * 360 * pixel_size / map_size\n",
    "# Interpolate the Power Spectrum in Fourier Space\n",
    "power_map_th = jnp.array(make_power_map(ps_halofit, map_size, kps=kell))"
   ]
  },
  {
   "cell_type": "code",
   "execution_count": 6,
   "id": "4cc52f0d",
   "metadata": {},
   "outputs": [],
   "source": [
    "def forward_fn(x, s, is_training=False):\n",
    "  denoiser = UResNet18(n_output_channels=1)\n",
    "  return denoiser(x, s, is_training=is_training)\n",
    "\n",
    "model = hk.without_apply_rng(hk.transform_with_state(forward_fn))"
   ]
  },
  {
   "cell_type": "code",
   "execution_count": 7,
   "id": "0b34cb29",
   "metadata": {},
   "outputs": [],
   "source": [
    "model_name = \"model-final.pckl\"\n",
    "\n",
    "with open(weight_dir+'/'+ model_name, 'rb') as file: \n",
    "    params, state, sn_state = pickle.load(file)"
   ]
  },
  {
   "cell_type": "code",
   "execution_count": 8,
   "id": "8f0f92c4",
   "metadata": {},
   "outputs": [],
   "source": [
    "def log_gaussian_prior(map_data, sigma, ps_map):\n",
    "  data_ft = jnp.fft.fft2(map_data) / float(map_size)\n",
    "  return -0.5*jnp.sum(jnp.real(data_ft*jnp.conj(data_ft)) / (ps_map+sigma[0]**2))\n",
    "gaussian_prior_score = jax.vmap(jax.grad(log_gaussian_prior), in_axes=[0,0, None])"
   ]
  },
  {
   "cell_type": "code",
   "execution_count": 9,
   "id": "064ff94a",
   "metadata": {},
   "outputs": [],
   "source": [
    "def log_gaussian_prior_b(map_data, sigma):\n",
    "    data_ft = jnp.fft.fft2(map_data) / float(map_size)\n",
    "    return -0.5*jnp.sum(jnp.real(data_ft*jnp.conj(data_ft)) / (sigma[0]**2))\n",
    "\n",
    "gaussian_prior_score_b = jax.vmap(jax.grad(log_gaussian_prior_b), in_axes=[0,0])"
   ]
  },
  {
   "cell_type": "code",
   "execution_count": 10,
   "id": "0ee82877",
   "metadata": {},
   "outputs": [],
   "source": [
    "def score_fn(params, state, x, sigma, is_training=False):\n",
    "    if b_mode:\n",
    "        x = x.reshape((-1,360,360,2))\n",
    "        ke = x[...,0]\n",
    "        kb = x[...,1]\n",
    "    else:\n",
    "        ke = x.reshape((-1,360,360))\n",
    "    \n",
    "    if gaussian_prior:\n",
    "        # If requested, first compute the Gaussian prior\n",
    "        gs = gaussian_prior_score(ke, sigma.reshape((-1,1,1)), power_map_th)\n",
    "        gs = jnp.expand_dims(gs, axis=-1)\n",
    "        #print((jnp.abs(sigma.reshape((-1,1,1,1)))**2).shape, (gs).shape)\n",
    "        net_input = jnp.concatenate([ke.reshape((-1,360,360,1)), jnp.abs(sigma.reshape((-1,1,1,1)))**2 * gs],axis=-1)\n",
    "        res, state = model.apply(params, state, net_input, sigma.reshape((-1,1,1,1)), is_training=is_training)\n",
    "        if b_mode:\n",
    "            gsb = gaussian_prior_score_b(kb, sigma.reshape((-1,1,1)))\n",
    "            gsb = jnp.expand_dims(gsb, axis=-1)\n",
    "        else:\n",
    "            gsb = jnp.zeros_like(res)\n",
    "    else:\n",
    "        res, state = model.apply(params, state, ke.reshape((-1,360,360,1)), sigma.reshape((-1,1,1,1)), is_training=is_training)\n",
    "        gs = jnp.zeros_like(res)\n",
    "        gsb = jnp.zeros_like(res)\n",
    "    return _, res, gs, gsb\n",
    "\n",
    "score_fn = partial(score_fn, params, state)"
   ]
  },
  {
   "cell_type": "code",
   "execution_count": 11,
   "id": "e787781b",
   "metadata": {},
   "outputs": [
    {
     "data": {
      "image/png": "[encoded data removed]",
      "text/plain": [
       "<Figure size 432x288 with 1 Axes>"
      ]
     },
     "metadata": {
      "needs_background": "light"
     },
     "output_type": "display_data"
    }
   ],
   "source": [
    "noise = 0.2\n",
    "start_and_end_times = jnp.logspace(log10(0.99*noise**2),-5)\n",
    "\n",
    "plot(start_and_end_times)\n",
    "yscale('log')"
   ]
  },
  {
   "cell_type": "code",
   "execution_count": 12,
   "id": "69789561",
   "metadata": {},
   "outputs": [
    {
     "ename": "RuntimeError",
     "evalue": "Internal: Unable to launch fft for thunk 0x55e9c28e7560 with type IFFT",
     "output_type": "error",
     "traceback": [
      "\u001b[0;31m---------------------------------------------------------------------------\u001b[0m",
      "\u001b[0;31mRuntimeError\u001b[0m                              Traceback (most recent call last)",
      "\u001b[0;32m<ipython-input-12-be69dbb1c12e>\u001b[0m in \u001b[0;36m<module>\u001b[0;34m\u001b[0m\n\u001b[1;32m      2\u001b[0m \u001b[0;34m\u001b[0m\u001b[0m\n\u001b[1;32m      3\u001b[0m \u001b[0mconvergence\u001b[0m \u001b[0;34m=\u001b[0m \u001b[0mfits\u001b[0m\u001b[0;34m.\u001b[0m\u001b[0mgetdata\u001b[0m\u001b[0;34m(\u001b[0m\u001b[0;34m'../../data/ktng/ktng_kappa360v2.fits'\u001b[0m\u001b[0;34m)\u001b[0m\u001b[0;34m.\u001b[0m\u001b[0mastype\u001b[0m\u001b[0;34m(\u001b[0m\u001b[0;34m'float32'\u001b[0m\u001b[0;34m)\u001b[0m\u001b[0;34m\u001b[0m\u001b[0;34m\u001b[0m\u001b[0m\n\u001b[0;32m----> 4\u001b[0;31m \u001b[0mmeas_shear\u001b[0m \u001b[0;34m=\u001b[0m \u001b[0mjnp\u001b[0m\u001b[0;34m.\u001b[0m\u001b[0mstack\u001b[0m\u001b[0;34m(\u001b[0m\u001b[0mks93inv\u001b[0m\u001b[0;34m(\u001b[0m\u001b[0mconvergence\u001b[0m\u001b[0;34m,\u001b[0m \u001b[0mjnp\u001b[0m\u001b[0;34m.\u001b[0m\u001b[0mzeros_like\u001b[0m\u001b[0;34m(\u001b[0m\u001b[0mconvergence\u001b[0m\u001b[0;34m)\u001b[0m\u001b[0;34m)\u001b[0m\u001b[0;34m,\u001b[0m \u001b[0maxis\u001b[0m\u001b[0;34m=\u001b[0m\u001b[0;34m-\u001b[0m\u001b[0;36m1\u001b[0m\u001b[0;34m)\u001b[0m\u001b[0;34m\u001b[0m\u001b[0;34m\u001b[0m\u001b[0m\n\u001b[0m\u001b[1;32m      5\u001b[0m \u001b[0mstd1\u001b[0m \u001b[0;34m=\u001b[0m \u001b[0mfits\u001b[0m\u001b[0;34m.\u001b[0m\u001b[0mgetdata\u001b[0m\u001b[0;34m(\u001b[0m\u001b[0;34m'../../data/COSMOS/std1.fits'\u001b[0m\u001b[0;34m)\u001b[0m\u001b[0;34m.\u001b[0m\u001b[0mastype\u001b[0m\u001b[0;34m(\u001b[0m\u001b[0;34m'float32'\u001b[0m\u001b[0;34m)\u001b[0m\u001b[0;34m.\u001b[0m\u001b[0mreshape\u001b[0m\u001b[0;34m(\u001b[0m\u001b[0;34m(\u001b[0m\u001b[0;36m360\u001b[0m\u001b[0;34m,\u001b[0m\u001b[0;36m360\u001b[0m\u001b[0;34m,\u001b[0m\u001b[0;36m1\u001b[0m\u001b[0;34m)\u001b[0m\u001b[0;34m)\u001b[0m\u001b[0;34m\u001b[0m\u001b[0;34m\u001b[0m\u001b[0m\n\u001b[1;32m      6\u001b[0m \u001b[0mstd2\u001b[0m \u001b[0;34m=\u001b[0m \u001b[0mfits\u001b[0m\u001b[0;34m.\u001b[0m\u001b[0mgetdata\u001b[0m\u001b[0;34m(\u001b[0m\u001b[0;34m'../../data/COSMOS/std2.fits'\u001b[0m\u001b[0;34m)\u001b[0m\u001b[0;34m.\u001b[0m\u001b[0mastype\u001b[0m\u001b[0;34m(\u001b[0m\u001b[0;34m'float32'\u001b[0m\u001b[0;34m)\u001b[0m\u001b[0;34m.\u001b[0m\u001b[0mreshape\u001b[0m\u001b[0;34m(\u001b[0m\u001b[0;34m(\u001b[0m\u001b[0;36m360\u001b[0m\u001b[0;34m,\u001b[0m\u001b[0;36m360\u001b[0m\u001b[0;34m,\u001b[0m\u001b[0;36m1\u001b[0m\u001b[0;34m)\u001b[0m\u001b[0;34m)\u001b[0m\u001b[0;34m\u001b[0m\u001b[0;34m\u001b[0m\u001b[0m\n",
      "\u001b[0;32m/gpfsdswork/projects/rech/xdy/utb76xl/repo/jl/jax_lensing/inversion.py\u001b[0m in \u001b[0;36mks93inv\u001b[0;34m(kE, kB)\u001b[0m\n\u001b[1;32m    114\u001b[0m \u001b[0;34m\u001b[0m\u001b[0m\n\u001b[1;32m    115\u001b[0m     \u001b[0;31m# Transform back to pixel space\u001b[0m\u001b[0;34m\u001b[0m\u001b[0;34m\u001b[0m\u001b[0;34m\u001b[0m\u001b[0m\n\u001b[0;32m--> 116\u001b[0;31m     \u001b[0mg1\u001b[0m \u001b[0;34m=\u001b[0m \u001b[0mnp\u001b[0m\u001b[0;34m.\u001b[0m\u001b[0mfft\u001b[0m\u001b[0;34m.\u001b[0m\u001b[0mifft2\u001b[0m\u001b[0;34m(\u001b[0m\u001b[0mg1hat\u001b[0m\u001b[0;34m)\u001b[0m\u001b[0;34m.\u001b[0m\u001b[0mreal\u001b[0m\u001b[0;34m\u001b[0m\u001b[0;34m\u001b[0m\u001b[0m\n\u001b[0m\u001b[1;32m    117\u001b[0m     \u001b[0mg2\u001b[0m \u001b[0;34m=\u001b[0m \u001b[0mnp\u001b[0m\u001b[0;34m.\u001b[0m\u001b[0mfft\u001b[0m\u001b[0;34m.\u001b[0m\u001b[0mifft2\u001b[0m\u001b[0;34m(\u001b[0m\u001b[0mg2hat\u001b[0m\u001b[0;34m)\u001b[0m\u001b[0;34m.\u001b[0m\u001b[0mreal\u001b[0m\u001b[0;34m\u001b[0m\u001b[0;34m\u001b[0m\u001b[0m\n\u001b[1;32m    118\u001b[0m \u001b[0;34m\u001b[0m\u001b[0m\n",
      "\u001b[0;32m~/.local/lib/python3.7/site-packages/jax/_src/numpy/fft.py\u001b[0m in \u001b[0;36mifft2\u001b[0;34m(a, s, axes, norm)\u001b[0m\n\u001b[1;32m    176\u001b[0m \u001b[0;32mdef\u001b[0m \u001b[0mifft2\u001b[0m\u001b[0;34m(\u001b[0m\u001b[0ma\u001b[0m\u001b[0;34m,\u001b[0m \u001b[0ms\u001b[0m\u001b[0;34m=\u001b[0m\u001b[0;32mNone\u001b[0m\u001b[0;34m,\u001b[0m \u001b[0maxes\u001b[0m\u001b[0;34m=\u001b[0m\u001b[0;34m(\u001b[0m\u001b[0;34m-\u001b[0m\u001b[0;36m2\u001b[0m\u001b[0;34m,\u001b[0m\u001b[0;34m-\u001b[0m\u001b[0;36m1\u001b[0m\u001b[0;34m)\u001b[0m\u001b[0;34m,\u001b[0m \u001b[0mnorm\u001b[0m\u001b[0;34m=\u001b[0m\u001b[0;32mNone\u001b[0m\u001b[0;34m)\u001b[0m\u001b[0;34m:\u001b[0m\u001b[0;34m\u001b[0m\u001b[0;34m\u001b[0m\u001b[0m\n\u001b[1;32m    177\u001b[0m   return _fft_core_2d('ifft2', xla_client.FftType.IFFT, a, s=s, axes=axes,\n\u001b[0;32m--> 178\u001b[0;31m                       norm=norm)\n\u001b[0m\u001b[1;32m    179\u001b[0m \u001b[0;34m\u001b[0m\u001b[0m\n\u001b[1;32m    180\u001b[0m \u001b[0;34m@\u001b[0m\u001b[0m_wraps\u001b[0m\u001b[0;34m(\u001b[0m\u001b[0mnp\u001b[0m\u001b[0;34m.\u001b[0m\u001b[0mfft\u001b[0m\u001b[0;34m.\u001b[0m\u001b[0mrfft2\u001b[0m\u001b[0;34m)\u001b[0m\u001b[0;34m\u001b[0m\u001b[0;34m\u001b[0m\u001b[0m\n",
      "\u001b[0;32m~/.local/lib/python3.7/site-packages/jax/_src/numpy/fft.py\u001b[0m in \u001b[0;36m_fft_core_2d\u001b[0;34m(func_name, fft_type, a, s, axes, norm)\u001b[0m\n\u001b[1;32m    165\u001b[0m         \u001b[0;34m%\u001b[0m \u001b[0;34m(\u001b[0m\u001b[0mfull_name\u001b[0m\u001b[0;34m,\u001b[0m \u001b[0maxes\u001b[0m\u001b[0;34m)\u001b[0m\u001b[0;34m\u001b[0m\u001b[0;34m\u001b[0m\u001b[0m\n\u001b[1;32m    166\u001b[0m     )\n\u001b[0;32m--> 167\u001b[0;31m   \u001b[0;32mreturn\u001b[0m \u001b[0m_fft_core\u001b[0m\u001b[0;34m(\u001b[0m\u001b[0mfunc_name\u001b[0m\u001b[0;34m,\u001b[0m \u001b[0mfft_type\u001b[0m\u001b[0;34m,\u001b[0m \u001b[0ma\u001b[0m\u001b[0;34m,\u001b[0m \u001b[0ms\u001b[0m\u001b[0;34m,\u001b[0m \u001b[0maxes\u001b[0m\u001b[0;34m,\u001b[0m \u001b[0mnorm\u001b[0m\u001b[0;34m)\u001b[0m\u001b[0;34m\u001b[0m\u001b[0;34m\u001b[0m\u001b[0m\n\u001b[0m\u001b[1;32m    168\u001b[0m \u001b[0;34m\u001b[0m\u001b[0m\n\u001b[1;32m    169\u001b[0m \u001b[0;34m\u001b[0m\u001b[0m\n",
      "\u001b[0;32m~/.local/lib/python3.7/site-packages/jax/_src/numpy/fft.py\u001b[0m in \u001b[0;36m_fft_core\u001b[0;34m(func_name, fft_type, a, s, axes, norm)\u001b[0m\n\u001b[1;32m     79\u001b[0m       \u001b[0ms\u001b[0m \u001b[0;34m=\u001b[0m \u001b[0;34m[\u001b[0m\u001b[0ma\u001b[0m\u001b[0;34m.\u001b[0m\u001b[0mshape\u001b[0m\u001b[0;34m[\u001b[0m\u001b[0maxis\u001b[0m\u001b[0;34m]\u001b[0m \u001b[0;32mfor\u001b[0m \u001b[0maxis\u001b[0m \u001b[0;32min\u001b[0m \u001b[0maxes\u001b[0m\u001b[0;34m]\u001b[0m\u001b[0;34m\u001b[0m\u001b[0;34m\u001b[0m\u001b[0m\n\u001b[1;32m     80\u001b[0m \u001b[0;34m\u001b[0m\u001b[0m\n\u001b[0;32m---> 81\u001b[0;31m   \u001b[0mtransformed\u001b[0m \u001b[0;34m=\u001b[0m \u001b[0mlax\u001b[0m\u001b[0;34m.\u001b[0m\u001b[0mfft\u001b[0m\u001b[0;34m(\u001b[0m\u001b[0ma\u001b[0m\u001b[0;34m,\u001b[0m \u001b[0mfft_type\u001b[0m\u001b[0;34m,\u001b[0m \u001b[0ms\u001b[0m\u001b[0;34m)\u001b[0m\u001b[0;34m\u001b[0m\u001b[0;34m\u001b[0m\u001b[0m\n\u001b[0m\u001b[1;32m     82\u001b[0m \u001b[0;34m\u001b[0m\u001b[0m\n\u001b[1;32m     83\u001b[0m   \u001b[0;32mif\u001b[0m \u001b[0morig_axes\u001b[0m \u001b[0;32mis\u001b[0m \u001b[0;32mnot\u001b[0m \u001b[0;32mNone\u001b[0m\u001b[0;34m:\u001b[0m\u001b[0;34m\u001b[0m\u001b[0;34m\u001b[0m\u001b[0m\n",
      "\u001b[0;32m~/.local/lib/python3.7/site-packages/jax/_src/lax/fft.py\u001b[0m in \u001b[0;36mfft\u001b[0;34m(x, fft_type, fft_lengths)\u001b[0m\n\u001b[1;32m     55\u001b[0m     \u001b[0;32mreturn\u001b[0m \u001b[0mx\u001b[0m\u001b[0;34m\u001b[0m\u001b[0;34m\u001b[0m\u001b[0m\n\u001b[1;32m     56\u001b[0m   \u001b[0mfft_lengths\u001b[0m \u001b[0;34m=\u001b[0m \u001b[0mtuple\u001b[0m\u001b[0;34m(\u001b[0m\u001b[0mfft_lengths\u001b[0m\u001b[0;34m)\u001b[0m\u001b[0;34m\u001b[0m\u001b[0;34m\u001b[0m\u001b[0m\n\u001b[0;32m---> 57\u001b[0;31m   \u001b[0;32mreturn\u001b[0m \u001b[0mfft_p\u001b[0m\u001b[0;34m.\u001b[0m\u001b[0mbind\u001b[0m\u001b[0;34m(\u001b[0m\u001b[0mx\u001b[0m\u001b[0;34m,\u001b[0m \u001b[0mfft_type\u001b[0m\u001b[0;34m=\u001b[0m\u001b[0mfft_type\u001b[0m\u001b[0;34m,\u001b[0m \u001b[0mfft_lengths\u001b[0m\u001b[0;34m=\u001b[0m\u001b[0mfft_lengths\u001b[0m\u001b[0;34m)\u001b[0m\u001b[0;34m\u001b[0m\u001b[0;34m\u001b[0m\u001b[0m\n\u001b[0m\u001b[1;32m     58\u001b[0m \u001b[0;34m\u001b[0m\u001b[0m\n\u001b[1;32m     59\u001b[0m \u001b[0;32mdef\u001b[0m \u001b[0mfft_impl\u001b[0m\u001b[0;34m(\u001b[0m\u001b[0mx\u001b[0m\u001b[0;34m,\u001b[0m \u001b[0mfft_type\u001b[0m\u001b[0;34m,\u001b[0m \u001b[0mfft_lengths\u001b[0m\u001b[0;34m)\u001b[0m\u001b[0;34m:\u001b[0m\u001b[0;34m\u001b[0m\u001b[0;34m\u001b[0m\u001b[0m\n",
      "\u001b[0;32m~/.local/lib/python3.7/site-packages/jax/core.py\u001b[0m in \u001b[0;36mbind\u001b[0;34m(self, *args, **params)\u001b[0m\n\u001b[1;32m    262\u001b[0m         args, used_axis_names(self, params) if self._dispatch_on_params else None)\n\u001b[1;32m    263\u001b[0m     \u001b[0mtracers\u001b[0m \u001b[0;34m=\u001b[0m \u001b[0mmap\u001b[0m\u001b[0;34m(\u001b[0m\u001b[0mtop_trace\u001b[0m\u001b[0;34m.\u001b[0m\u001b[0mfull_raise\u001b[0m\u001b[0;34m,\u001b[0m \u001b[0margs\u001b[0m\u001b[0;34m)\u001b[0m\u001b[0;34m\u001b[0m\u001b[0;34m\u001b[0m\u001b[0m\n\u001b[0;32m--> 264\u001b[0;31m     \u001b[0mout\u001b[0m \u001b[0;34m=\u001b[0m \u001b[0mtop_trace\u001b[0m\u001b[0;34m.\u001b[0m\u001b[0mprocess_primitive\u001b[0m\u001b[0;34m(\u001b[0m\u001b[0mself\u001b[0m\u001b[0;34m,\u001b[0m \u001b[0mtracers\u001b[0m\u001b[0;34m,\u001b[0m \u001b[0mparams\u001b[0m\u001b[0;34m)\u001b[0m\u001b[0;34m\u001b[0m\u001b[0;34m\u001b[0m\u001b[0m\n\u001b[0m\u001b[1;32m    265\u001b[0m     \u001b[0;32mreturn\u001b[0m \u001b[0mmap\u001b[0m\u001b[0;34m(\u001b[0m\u001b[0mfull_lower\u001b[0m\u001b[0;34m,\u001b[0m \u001b[0mout\u001b[0m\u001b[0;34m)\u001b[0m \u001b[0;32mif\u001b[0m \u001b[0mself\u001b[0m\u001b[0;34m.\u001b[0m\u001b[0mmultiple_results\u001b[0m \u001b[0;32melse\u001b[0m \u001b[0mfull_lower\u001b[0m\u001b[0;34m(\u001b[0m\u001b[0mout\u001b[0m\u001b[0;34m)\u001b[0m\u001b[0;34m\u001b[0m\u001b[0;34m\u001b[0m\u001b[0m\n\u001b[1;32m    266\u001b[0m \u001b[0;34m\u001b[0m\u001b[0m\n",
      "\u001b[0;32m~/.local/lib/python3.7/site-packages/jax/core.py\u001b[0m in \u001b[0;36mprocess_primitive\u001b[0;34m(self, primitive, tracers, params)\u001b[0m\n\u001b[1;32m    602\u001b[0m \u001b[0;34m\u001b[0m\u001b[0m\n\u001b[1;32m    603\u001b[0m   \u001b[0;32mdef\u001b[0m \u001b[0mprocess_primitive\u001b[0m\u001b[0;34m(\u001b[0m\u001b[0mself\u001b[0m\u001b[0;34m,\u001b[0m \u001b[0mprimitive\u001b[0m\u001b[0;34m,\u001b[0m \u001b[0mtracers\u001b[0m\u001b[0;34m,\u001b[0m \u001b[0mparams\u001b[0m\u001b[0;34m)\u001b[0m\u001b[0;34m:\u001b[0m\u001b[0;34m\u001b[0m\u001b[0;34m\u001b[0m\u001b[0m\n\u001b[0;32m--> 604\u001b[0;31m     \u001b[0;32mreturn\u001b[0m \u001b[0mprimitive\u001b[0m\u001b[0;34m.\u001b[0m\u001b[0mimpl\u001b[0m\u001b[0;34m(\u001b[0m\u001b[0;34m*\u001b[0m\u001b[0mtracers\u001b[0m\u001b[0;34m,\u001b[0m \u001b[0;34m**\u001b[0m\u001b[0mparams\u001b[0m\u001b[0;34m)\u001b[0m\u001b[0;34m\u001b[0m\u001b[0;34m\u001b[0m\u001b[0m\n\u001b[0m\u001b[1;32m    605\u001b[0m \u001b[0;34m\u001b[0m\u001b[0m\n\u001b[1;32m    606\u001b[0m   \u001b[0;32mdef\u001b[0m \u001b[0mprocess_call\u001b[0m\u001b[0;34m(\u001b[0m\u001b[0mself\u001b[0m\u001b[0;34m,\u001b[0m \u001b[0mprimitive\u001b[0m\u001b[0;34m,\u001b[0m \u001b[0mf\u001b[0m\u001b[0;34m,\u001b[0m \u001b[0mtracers\u001b[0m\u001b[0;34m,\u001b[0m \u001b[0mparams\u001b[0m\u001b[0;34m)\u001b[0m\u001b[0;34m:\u001b[0m\u001b[0;34m\u001b[0m\u001b[0;34m\u001b[0m\u001b[0m\n",
      "\u001b[0;32m~/.local/lib/python3.7/site-packages/jax/_src/lax/fft.py\u001b[0m in \u001b[0;36mfft_impl\u001b[0;34m(x, fft_type, fft_lengths)\u001b[0m\n\u001b[1;32m     58\u001b[0m \u001b[0;34m\u001b[0m\u001b[0m\n\u001b[1;32m     59\u001b[0m \u001b[0;32mdef\u001b[0m \u001b[0mfft_impl\u001b[0m\u001b[0;34m(\u001b[0m\u001b[0mx\u001b[0m\u001b[0;34m,\u001b[0m \u001b[0mfft_type\u001b[0m\u001b[0;34m,\u001b[0m \u001b[0mfft_lengths\u001b[0m\u001b[0;34m)\u001b[0m\u001b[0;34m:\u001b[0m\u001b[0;34m\u001b[0m\u001b[0;34m\u001b[0m\u001b[0m\n\u001b[0;32m---> 60\u001b[0;31m   \u001b[0;32mreturn\u001b[0m \u001b[0mxla\u001b[0m\u001b[0;34m.\u001b[0m\u001b[0mapply_primitive\u001b[0m\u001b[0;34m(\u001b[0m\u001b[0mfft_p\u001b[0m\u001b[0;34m,\u001b[0m \u001b[0mx\u001b[0m\u001b[0;34m,\u001b[0m \u001b[0mfft_type\u001b[0m\u001b[0;34m=\u001b[0m\u001b[0mfft_type\u001b[0m\u001b[0;34m,\u001b[0m \u001b[0mfft_lengths\u001b[0m\u001b[0;34m=\u001b[0m\u001b[0mfft_lengths\u001b[0m\u001b[0;34m)\u001b[0m\u001b[0;34m\u001b[0m\u001b[0;34m\u001b[0m\u001b[0m\n\u001b[0m\u001b[1;32m     61\u001b[0m \u001b[0;34m\u001b[0m\u001b[0m\n\u001b[1;32m     62\u001b[0m \u001b[0m_complex_dtype\u001b[0m \u001b[0;34m=\u001b[0m \u001b[0;32mlambda\u001b[0m \u001b[0mdtype\u001b[0m\u001b[0;34m:\u001b[0m \u001b[0;34m(\u001b[0m\u001b[0mnp\u001b[0m\u001b[0;34m.\u001b[0m\u001b[0mzeros\u001b[0m\u001b[0;34m(\u001b[0m\u001b[0;34m(\u001b[0m\u001b[0;34m)\u001b[0m\u001b[0;34m,\u001b[0m \u001b[0mdtype\u001b[0m\u001b[0;34m)\u001b[0m \u001b[0;34m+\u001b[0m \u001b[0mnp\u001b[0m\u001b[0;34m.\u001b[0m\u001b[0mzeros\u001b[0m\u001b[0;34m(\u001b[0m\u001b[0;34m(\u001b[0m\u001b[0;34m)\u001b[0m\u001b[0;34m,\u001b[0m \u001b[0mnp\u001b[0m\u001b[0;34m.\u001b[0m\u001b[0mcomplex64\u001b[0m\u001b[0;34m)\u001b[0m\u001b[0;34m)\u001b[0m\u001b[0;34m.\u001b[0m\u001b[0mdtype\u001b[0m\u001b[0;34m\u001b[0m\u001b[0;34m\u001b[0m\u001b[0m\n",
      "\u001b[0;32m~/.local/lib/python3.7/site-packages/jax/interpreters/xla.py\u001b[0m in \u001b[0;36mapply_primitive\u001b[0;34m(prim, *args, **params)\u001b[0m\n\u001b[1;32m    260\u001b[0m   \u001b[0;34m\"\"\"Impl rule that compiles and runs a single primitive 'prim' using XLA.\"\"\"\u001b[0m\u001b[0;34m\u001b[0m\u001b[0;34m\u001b[0m\u001b[0m\n\u001b[1;32m    261\u001b[0m   \u001b[0mcompiled_fun\u001b[0m \u001b[0;34m=\u001b[0m \u001b[0mxla_primitive_callable\u001b[0m\u001b[0;34m(\u001b[0m\u001b[0mprim\u001b[0m\u001b[0;34m,\u001b[0m \u001b[0;34m*\u001b[0m\u001b[0munsafe_map\u001b[0m\u001b[0;34m(\u001b[0m\u001b[0marg_spec\u001b[0m\u001b[0;34m,\u001b[0m \u001b[0margs\u001b[0m\u001b[0;34m)\u001b[0m\u001b[0;34m,\u001b[0m \u001b[0;34m**\u001b[0m\u001b[0mparams\u001b[0m\u001b[0;34m)\u001b[0m\u001b[0;34m\u001b[0m\u001b[0;34m\u001b[0m\u001b[0m\n\u001b[0;32m--> 262\u001b[0;31m   \u001b[0;32mreturn\u001b[0m \u001b[0mcompiled_fun\u001b[0m\u001b[0;34m(\u001b[0m\u001b[0;34m*\u001b[0m\u001b[0margs\u001b[0m\u001b[0;34m)\u001b[0m\u001b[0;34m\u001b[0m\u001b[0;34m\u001b[0m\u001b[0m\n\u001b[0m\u001b[1;32m    263\u001b[0m \u001b[0;34m\u001b[0m\u001b[0m\n\u001b[1;32m    264\u001b[0m \u001b[0;34m\u001b[0m\u001b[0m\n",
      "\u001b[0;32m~/.local/lib/python3.7/site-packages/jax/interpreters/xla.py\u001b[0m in \u001b[0;36m_execute_compiled_primitive\u001b[0;34m(prim, compiled, result_handler, *args)\u001b[0m\n\u001b[1;32m    376\u001b[0m   \u001b[0mdevice\u001b[0m\u001b[0;34m,\u001b[0m \u001b[0;34m=\u001b[0m \u001b[0mcompiled\u001b[0m\u001b[0;34m.\u001b[0m\u001b[0mlocal_devices\u001b[0m\u001b[0;34m(\u001b[0m\u001b[0;34m)\u001b[0m\u001b[0;34m\u001b[0m\u001b[0;34m\u001b[0m\u001b[0m\n\u001b[1;32m    377\u001b[0m   \u001b[0minput_bufs\u001b[0m \u001b[0;34m=\u001b[0m \u001b[0mlist\u001b[0m\u001b[0;34m(\u001b[0m\u001b[0mit\u001b[0m\u001b[0;34m.\u001b[0m\u001b[0mchain\u001b[0m\u001b[0;34m.\u001b[0m\u001b[0mfrom_iterable\u001b[0m\u001b[0;34m(\u001b[0m\u001b[0mdevice_put\u001b[0m\u001b[0;34m(\u001b[0m\u001b[0mx\u001b[0m\u001b[0;34m,\u001b[0m \u001b[0mdevice\u001b[0m\u001b[0;34m)\u001b[0m \u001b[0;32mfor\u001b[0m \u001b[0mx\u001b[0m \u001b[0;32min\u001b[0m \u001b[0margs\u001b[0m \u001b[0;32mif\u001b[0m \u001b[0mx\u001b[0m \u001b[0;32mis\u001b[0m \u001b[0;32mnot\u001b[0m \u001b[0mtoken\u001b[0m\u001b[0;34m)\u001b[0m\u001b[0;34m)\u001b[0m\u001b[0;34m\u001b[0m\u001b[0;34m\u001b[0m\u001b[0m\n\u001b[0;32m--> 378\u001b[0;31m   \u001b[0mout_bufs\u001b[0m \u001b[0;34m=\u001b[0m \u001b[0mcompiled\u001b[0m\u001b[0;34m.\u001b[0m\u001b[0mexecute\u001b[0m\u001b[0;34m(\u001b[0m\u001b[0minput_bufs\u001b[0m\u001b[0;34m)\u001b[0m\u001b[0;34m\u001b[0m\u001b[0;34m\u001b[0m\u001b[0m\n\u001b[0m\u001b[1;32m    379\u001b[0m   \u001b[0mcheck_special\u001b[0m\u001b[0;34m(\u001b[0m\u001b[0mprim\u001b[0m\u001b[0;34m.\u001b[0m\u001b[0mname\u001b[0m\u001b[0;34m,\u001b[0m \u001b[0mout_bufs\u001b[0m\u001b[0;34m)\u001b[0m\u001b[0;34m\u001b[0m\u001b[0;34m\u001b[0m\u001b[0m\n\u001b[1;32m    380\u001b[0m   \u001b[0;32mreturn\u001b[0m \u001b[0mresult_handler\u001b[0m\u001b[0;34m(\u001b[0m\u001b[0;34m*\u001b[0m\u001b[0mout_bufs\u001b[0m\u001b[0;34m)\u001b[0m\u001b[0;34m\u001b[0m\u001b[0;34m\u001b[0m\u001b[0m\n",
      "\u001b[0;31mRuntimeError\u001b[0m: Internal: Unable to launch fft for thunk 0x55e9c28e7560 with type IFFT"
     ]
    }
   ],
   "source": [
    "mask = fits.getdata('../../data/COSMOS/cosmos_full_mask_0.29arcmin360copy.fits').astype('float32')\n",
    "\n",
    "convergence = fits.getdata('../../data/ktng/ktng_kappa360v2.fits').astype('float32')\n",
    "meas_shear = jnp.stack(ks93inv(convergence, jnp.zeros_like(convergence)), axis=-1)\n",
    "std1 = fits.getdata('../../data/COSMOS/std1.fits').astype('float32').reshape((360,360,1))\n",
    "std2 = fits.getdata('../../data/COSMOS/std2.fits').astype('float32').reshape((360,360,1))\n",
    "sigma_gamma = jnp.concatenate([std1, std2], axis=-1)\n",
    "#sigma_gamma = 0.148\n",
    "\n",
    "#meas_shear += sigma_gamma*np.random.randn(360,360,2)\n",
    "meas_shear += sigma_gamma * jax.random.normal(jax.random.PRNGKey(0), meas_shear.shape)\n",
    "\n",
    "\n",
    "#g1 = fits.getdata('../data/COSMOS/cosmos_full_e1_0.29arcmin360.fits').astype('float32').reshape([map_size, map_size, 1])\n",
    "#g2 = fits.getdata('../data/COSMOS/cosmos_full_e2_0.29arcmin360.fits').astype('float32').reshape([map_size, map_size, 1])\n",
    "#meas_shear = onp.concatenate([g1, g2], axis=-1)\n",
    "\n",
    "mask = jnp.expand_dims(mask, -1)\n",
    "sigma_mask = (1-mask)*1*10**3\n",
    "\n",
    "masked_true_shear = meas_shear*mask\n",
    "\n",
    "figure(figsize(14,5))\n",
    "subplot(141)\n",
    "imshow(masked_true_shear[..., 0])\n",
    "subplot(142)\n",
    "imshow(masked_true_shear[..., 1])\n",
    "subplot(143)\n",
    "imshow(convergence)\n",
    "subplot(144)\n",
    "imshow(mask[...,0])"
   ]
  },
  {
   "cell_type": "code",
   "execution_count": null,
   "id": "5f5819bf",
   "metadata": {},
   "outputs": [],
   "source": [
    "def log_likelihood(x, sigma, meas_shear, mask):\n",
    "    \"\"\" Likelihood function at the level of the measured shear\n",
    "    \"\"\"\n",
    "    if b_mode:\n",
    "        x = x.reshape((360, 360,2))\n",
    "        ke = x[...,0]\n",
    "        kb = x[...,1]\n",
    "    else:\n",
    "        ke = x.reshape((360, 360))\n",
    "        kb = jnp.zeros(ke.shape)\n",
    "        \n",
    "    model_shear = jnp.stack(ks93inv(ke, kb), axis=-1)\n",
    "    \n",
    "    return - jnp.sum((model_shear - masked_true_shear)**2/((sigma_gamma)**2 + sigma**2 + sigma_mask) )/2.\n",
    "    #return - jnp.sum(mask*(model_shear - meas_shear)**2/((sigma_gamma)**2 + sigma**2) )/2.\n",
    "\n",
    "likelihood_score = jax.vmap(jax.grad(log_likelihood), in_axes=[0,0, None, None])"
   ]
  },
  {
   "cell_type": "code",
   "execution_count": null,
   "id": "71832b42",
   "metadata": {},
   "outputs": [],
   "source": [
    "def score_prior(x, sigma):\n",
    "    if b_mode:\n",
    "        _, res, gaussian_score, gsb = score_fn(x.reshape(-1,360, 360,2), sigma.reshape(-1,1,1,1))\n",
    "    else:\n",
    "        _, res, gaussian_score, gsb = score_fn(x.reshape(-1,360, 360), sigma.reshape(-1,1,1))\n",
    "    ke = (res[..., 0:1] + gaussian_score).reshape(-1, 360*360)\n",
    "    kb = gsb[...,0].reshape(-1, 360*360)\n",
    "    if b_mode:\n",
    "        return jnp.stack([ke, kb],axis=-1)\n",
    "    else:\n",
    "        return ke"
   ]
  },
  {
   "cell_type": "code",
   "execution_count": null,
   "id": "00a39173",
   "metadata": {},
   "outputs": [],
   "source": [
    "def total_score_fn(x, sigma):\n",
    "    if b_mode:\n",
    "        sl = likelihood_score(x, sigma, masked_true_shear, mask).reshape(-1, 360*360,2)\n",
    "    else:\n",
    "        sl = likelihood_score(x, sigma, masked_true_shear, mask).reshape(-1, 360*360)\n",
    "    sp = score_prior(x, sigma)\n",
    "    if b_mode:\n",
    "        return (sl + sp).reshape(-1, 360*360*2)\n",
    "    else:\n",
    "        return (sl + sp).reshape(-1, 360*360)\n",
    "    #return (sp).reshape(-1, 360*360,2)"
   ]
  },
  {
   "cell_type": "raw",
   "id": "04b2b641",
   "metadata": {},
   "source": [
    "def log_gaussian_prior(map_data, sigma, ps_map):\n",
    "    map_data = map_data.reshape(360, 360)\n",
    "    data_ft = jnp.fft.fft2(map_data) / float(map_size)\n",
    "    return -0.5*jnp.sum(jnp.real(data_ft*jnp.conj(data_ft)) / (ps_map+sigma**2))\n",
    "\n",
    "gaussian_prior_score = jax.vmap(jax.grad(log_gaussian_prior), in_axes=[0,0, None])\n",
    "\n",
    "def log_likelihood(x, sigma, meas_shear, mask):\n",
    "    \"\"\" Likelihood function at the level of the measured shear\n",
    "    \"\"\"\n",
    "    ke = x.reshape((map_size, map_size))\n",
    "    kb = jnp.zeros(ke.shape)\n",
    "    model_shear = jnp.stack(ks93inv(ke, kb), axis=-1)\n",
    "    \n",
    "    return - jnp.sum(mask*(model_shear - meas_shear)**2/((sigma_gamma)**2 + sigma**2 + sigma_mask) )/2.\n",
    "\n",
    "likelihood_score = jax.vmap(jax.grad(log_likelihood), in_axes=[0,0, None, None])\n",
    "\n"
   ]
  },
  {
   "cell_type": "code",
   "execution_count": null,
   "id": "565821a2",
   "metadata": {},
   "outputs": [],
   "source": [
    "import numpy as onp\n",
    "\n",
    "batch_size = 100\n",
    "initial_temperature = 1.3\n",
    "\n",
    "if b_mode:\n",
    "    init_image = np.stack([initial_temperature*np.random.randn(batch_size,360*360), \n",
    "                       initial_temperature*np.random.randn(batch_size,360*360)], axis=-1)\n",
    "    imshow(init_image[0,...,0].reshape(360, 360))\n",
    "else:\n",
    "    init_image = initial_temperature*np.random.randn(batch_size,360*360)\n",
    "    imshow(init_image[0,...].reshape(360, 360))\n",
    "#init_image = initial_temperature*np.random.randn(batch_size,360*360)\n",
    "\n",
    "print(init_image.shape)\n",
    "colorbar()"
   ]
  },
  {
   "cell_type": "code",
   "execution_count": null,
   "id": "8177a0e8",
   "metadata": {},
   "outputs": [],
   "source": [
    "from scipy import integrate\n",
    "\n",
    "@jax.jit\n",
    "def dynamics(t, x):\n",
    "  if b_mode:\n",
    "      x = x.reshape([-1,360,360,2])\n",
    "      return - 0.5*total_score_fn(x, sigma=jnp.ones((batch_size,1,1,1))*jnp.sqrt(t)).reshape([-1])\n",
    "  else:\n",
    "      x = x.reshape([-1,360,360])\n",
    "      return - 0.5*total_score_fn(x, sigma=jnp.ones((batch_size,1,1))*jnp.sqrt(t)).reshape([-1])"
   ]
  },
  {
   "cell_type": "code",
   "execution_count": null,
   "id": "80da091d",
   "metadata": {},
   "outputs": [],
   "source": [
    "%%time\n",
    "\n",
    "noise = initial_temperature\n",
    "\n",
    "start_and_end_times = jnp.logspace(log10(0.99*noise**2),-5, num=50)\n",
    "\n",
    "solution = integrate.solve_ivp(dynamics, \n",
    "                               [noise**2,(1e-5)], \n",
    "                               init_image.flatten(),\n",
    "                               t_eval=start_and_end_times)"
   ]
  },
  {
   "cell_type": "code",
   "execution_count": null,
   "id": "d31e70c3",
   "metadata": {},
   "outputs": [],
   "source": []
  },
  {
   "cell_type": "code",
   "execution_count": null,
   "id": "7f96cadd",
   "metadata": {},
   "outputs": [],
   "source": [
    "if b_mode:\n",
    "    sol = solution.y[:,-1].reshape([batch_size,360,360,2])[...,0]\n",
    "else:\n",
    "    sol = solution.y[:,-1].reshape([batch_size,360,360])\n",
    "\n",
    "kwargs = dict(vmin=-0.05, vmax=0.2, cmap='magma')\n",
    "\n",
    "subplot(131)\n",
    "title('target')\n",
    "imshow(convergence, **kwargs)\n",
    "subplot(132)\n",
    "title('sample')\n",
    "imshow(sol[0,...], **kwargs)\n",
    "subplot(133)\n",
    "title('mean')\n",
    "imshow(sol.mean(axis=0), **kwargs)"
   ]
  },
  {
   "cell_type": "code",
   "execution_count": null,
   "id": "e026c8ea",
   "metadata": {},
   "outputs": [],
   "source": [
    "figure(figsize=[20,20])\n",
    "kwargs=dict(cmap='magma', vmin=-0.05, vmax=0.2)\n",
    "subplot(331)\n",
    "imshow(sol[0,...], **kwargs)\n",
    "subplot(332)\n",
    "imshow(sol[1,...], **kwargs)\n",
    "subplot(333)\n",
    "imshow(sol[2,...], **kwargs)\n",
    "subplot(334)\n",
    "imshow(sol[3,...], **kwargs)\n",
    "subplot(335)\n",
    "imshow(sol[4,...], **kwargs)\n",
    "subplot(336)\n",
    "imshow(sol[5,...], **kwargs)\n",
    "subplot(337)\n",
    "imshow(sol[6,...], **kwargs)\n",
    "subplot(338)\n",
    "imshow(sol[7,...], **kwargs)\n",
    "subplot(339)\n",
    "imshow(sol[8,...], **kwargs)"
   ]
  },
  {
   "cell_type": "code",
   "execution_count": null,
   "id": "977810aa",
   "metadata": {},
   "outputs": [],
   "source": [
    "#jnp.save('res/no_mode_b_full/samples4.npy', sol)"
   ]
  },
  {
   "cell_type": "raw",
   "id": "0a547d15",
   "metadata": {},
   "source": [
    "sol_B = solution.y[:,-1].reshape([batch_size,360,360,2])[...,1]"
   ]
  },
  {
   "cell_type": "raw",
   "id": "fd75c067",
   "metadata": {},
   "source": [
    "subplot(221)\n",
    "imshow(sol_B[0,...])\n",
    "colorbar()\n",
    "subplot(222)\n",
    "imshow(sol_B[1,...])\n",
    "colorbar()\n",
    "subplot(223)\n",
    "imshow(sol_B[2,...])\n",
    "colorbar()\n",
    "subplot(224)\n",
    "imshow(sol_B[3,...])\n",
    "colorbar()"
   ]
  },
  {
   "cell_type": "code",
   "execution_count": null,
   "id": "645a9f35",
   "metadata": {},
   "outputs": [],
   "source": [
    "def rmse(a, b, mask):\n",
    "    a = a - np.mean(a)\n",
    "    b = b - np.mean(b)\n",
    "    return(np.sqrt(np.sum(mask*(a-b)*(a-b))/np.sum(mask)))\n",
    "\n",
    "print(rmse(convergence, sol.mean(axis=0), mask[...,0]))"
   ]
  },
  {
   "cell_type": "code",
   "execution_count": null,
   "id": "bdb3d0b7",
   "metadata": {},
   "outputs": [],
   "source": [
    "l = [rmse(convergence, sol[0,...].reshape(360,360), mask[...,0])]\n",
    "for i in range(1,sol.shape[0]):\n",
    "    l.append(rmse(convergence, sol[:i,...].mean(0).reshape(360,360), mask[...,0]))\n",
    "    \n",
    "plot(l)"
   ]
  },
  {
   "cell_type": "markdown",
   "id": "a9094acd",
   "metadata": {},
   "source": [
    "## Power Spectrum\n",
    "Compare to fiducial power spectrum, Gaussian posterior sample and target $\\kappa$ map"
   ]
  },
  {
   "cell_type": "code",
   "execution_count": null,
   "id": "04639bfa",
   "metadata": {},
   "outputs": [],
   "source": [
    "mps = jax.vmap(measure_power_spectrum, in_axes=[0,None])\n",
    "ell_post, cl_post = mps(sol, pixel_size)\n",
    "cl_post_mean = cl_post.mean(0)\n",
    "cl_post_std = cl_post.std(0)"
   ]
  },
  {
   "cell_type": "code",
   "execution_count": null,
   "id": "cbbacd25",
   "metadata": {},
   "outputs": [],
   "source": [
    "figure(figsize=(7,5), dpi=100)\n",
    "\n",
    "kwargs = dict(linewidth=1.5)\n",
    "\n",
    "gaussian_path = \"../../data/ktng/ktng_PS_theory.npy\"\n",
    "ps_data_th = np.load(gaussian_path).astype('float32')\n",
    "plot(ps_data_th[0,:], ps_data_th[1,:], color='pink', label='Fiducial', **kwargs)\n",
    "\n",
    "l_true, C_true = measure_power_spectrum(convergence, pixel_size)\n",
    "loglog(l_true, C_true, color='tab:red', label=r'Target $\\kappa$', **kwargs)\n",
    "\n",
    "wiener = np.load('../../notebooks/results/gaussian_samples.npy')\n",
    "l_true, C_true = measure_power_spectrum(wiener[0,...], pixel_size)\n",
    "loglog(l_true, C_true, color='tab:orange', label='Wiener posterior sample', **kwargs)\n",
    "\n",
    "plot(ell_post[0,...], cl_post_mean, color='tab:blue', **kwargs)\n",
    "fill_between(ell_post[0,...], cl_post_mean-cl_post_std,\n",
    "             cl_post_mean+cl_post_std, color='tab:blue' ,alpha=0.3, label='Our posterior samples')\n",
    "\n",
    "legend()\n",
    "ylim(5.e-13,6e-9)\n",
    "xlim(300,4e4)\n",
    "xscale('log')\n",
    "yscale('log')\n",
    "ylabel(r'$C_\\ell$', fontsize=18)\n",
    "xlabel(r'$\\ell$', fontsize=18)\n",
    "\n",
    "savefig('plots/ps-ODE-comparison-1.pdf', bbox_inches='tight')"
   ]
  },
  {
   "cell_type": "code",
   "execution_count": null,
   "id": "fbc71054",
   "metadata": {},
   "outputs": [],
   "source": [
    "figure(figsize=(7,3), dpi=100)\n",
    "\n",
    "kwargs = dict(linewidth=1.5)\n",
    "\n",
    "hlines(y=1., xmin=300,xmax=4e4, linestyle='--', color='k')\n",
    "\n",
    "l_true, C_true = measure_power_spectrum(convergence, pixel_size)\n",
    "\n",
    "l_true, C_wiener = measure_power_spectrum(wiener[0,...], pixel_size)\n",
    "plot(l_true, C_wiener/C_true, color='tab:orange', label='Wiener posterior sample', **kwargs)\n",
    "\n",
    "\n",
    "ell_post, cl_post = mps(sol, pixel_size)\n",
    "mean = (cl_post/C_true).mean(0)\n",
    "std = (cl_post/C_true).std(0)\n",
    "plot(l_true, mean, color='tab:blue', **kwargs)\n",
    "fill_between(l_true, mean-std,\n",
    "             mean+std, color='tab:blue' ,alpha=0.3, label='Our posterior samples')\n",
    "\n",
    "legend()\n",
    "xlim(300,4e4)\n",
    "xscale('log')\n",
    "yscale('log')\n",
    "ylabel(r'$C_\\ell/C_\\ell^\\mathrm{target}$', fontsize=18)\n",
    "xlabel(r'$\\ell$', fontsize=18)\n",
    "savefig('plots/ps-ODE-comparison-2.pdf', bbox_inches='tight')"
   ]
  },
  {
   "cell_type": "code",
   "execution_count": null,
   "id": "6256243e",
   "metadata": {},
   "outputs": [],
   "source": []
  },
  {
   "cell_type": "code",
   "execution_count": null,
   "id": "e4f0bcc5",
   "metadata": {},
   "outputs": [],
   "source": [
    "!ls res"
   ]
  },
  {
   "cell_type": "code",
   "execution_count": null,
   "id": "db9fd2c1",
   "metadata": {},
   "outputs": [],
   "source": [
    "1+1"
   ]
  },
  {
   "cell_type": "code",
   "execution_count": null,
   "id": "34df9a7b",
   "metadata": {},
   "outputs": [],
   "source": []
  },
  {
   "cell_type": "code",
   "execution_count": null,
   "id": "667e8e0b",
   "metadata": {},
   "outputs": [],
   "source": []
  }
 ],
 "metadata": {
  "kernelspec": {
   "display_name": "Python 3",
   "language": "python",
   "name": "python3"
  },
  "language_info": {
   "codemirror_mode": {
    "name": "ipython",
    "version": 3
   },
   "file_extension": ".py",
   "mimetype": "text/x-python",
   "name": "python",
   "nbconvert_exporter": "python",
   "pygments_lexer": "ipython3",
   "version": "3.7.10"
  }
 },
 "nbformat": 4,
 "nbformat_minor": 5
}
